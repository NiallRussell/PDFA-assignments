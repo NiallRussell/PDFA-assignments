{
 "cells": [
  {
   "cell_type": "markdown",
   "metadata": {},
   "source": [
    "The program should simulates 1000 individual battle rounds in Risk (3 attacker vs 2 defender) and plots the result.\n",
    "\n",
    "One battle round is one shake of the attacker and defender dice."
   ]
  },
  {
   "cell_type": "code",
   "execution_count": 2,
   "metadata": {},
   "outputs": [],
   "source": [
    "import numpy as np"
   ]
  },
  {
   "cell_type": "code",
   "execution_count": 3,
   "metadata": {},
   "outputs": [
    {
     "data": {
      "text/plain": [
       "array([1, 2, 3, 4, 5, 6])"
      ]
     },
     "execution_count": 3,
     "metadata": {},
     "output_type": "execute_result"
    }
   ],
   "source": [
    "# Sides of die\n",
    "n_sides = 6\n",
    "\n",
    "# Represent a die by using a numpy array\n",
    "die = np.array([i for i in range(1, n_sides+1)])\n",
    "\n",
    "die"
   ]
  },
  {
   "cell_type": "code",
   "execution_count": null,
   "metadata": {},
   "outputs": [
    {
     "data": {
      "text/plain": [
       "array([[4, 4, 1, ..., 2, 2, 4],\n",
       "       [5, 1, 2, ..., 1, 6, 3]])"
      ]
     },
     "execution_count": 15,
     "metadata": {},
     "output_type": "execute_result"
    }
   ],
   "source": [
    "# Roll the die 1000 times\n",
    "n_rolls = 1000\n",
    "\n",
    "# Save the result of each roll\n",
    "attack_rolls = np.array([np.array([np.random.choice(die) for _ in range(n_rolls)]) for _ in range(3)])\n",
    "\n",
    "defense_rolls = np.array([np.array([np.random.choice(die) for _ in range(n_rolls)]) for _ in range(2)])\n",
    "\n"
   ]
  },
  {
   "cell_type": "code",
   "execution_count": null,
   "metadata": {},
   "outputs": [],
   "source": []
  },
  {
   "cell_type": "code",
   "execution_count": null,
   "metadata": {},
   "outputs": [
    {
     "name": "stdout",
     "output_type": "stream",
     "text": [
      "[False False  True False  True False False  True  True  True  True  True\n",
      " False False False  True False False False False False False  True  True\n",
      "  True  True  True False False False False False False False False  True\n",
      " False  True  True  True  True False  True  True False  True  True False\n",
      " False  True  True False False  True  True False  True False  True  True\n",
      "  True False False False False False False  True False False  True  True\n",
      " False False False False  True  True  True  True False False False False\n",
      " False False  True  True False False  True False False False  True False\n",
      "  True False False False  True  True False False False False False  True\n",
      " False False False  True False False  True False  True False  True  True\n",
      " False  True False False False False False  True False False  True False\n",
      " False  True False  True False False False False False False False  True\n",
      " False False False  True  True False False  True False  True False  True\n",
      "  True False False False False  True False False  True  True False False\n",
      "  True False  True False False False  True False  True False  True  True\n",
      "  True False  True  True False  True False False False False False False\n",
      " False  True  True False  True  True False  True False False False False\n",
      " False False  True  True False False False False  True  True False False\n",
      "  True  True False False False False False False  True False  True  True\n",
      " False False False  True False  True  True  True False False False  True\n",
      "  True  True  True False  True False False False False False False False\n",
      " False False  True False False  True False False False  True False False\n",
      " False  True False False  True False  True False  True False  True False\n",
      " False False False False  True False  True False False False  True  True\n",
      " False False  True False False False False  True False  True  True False\n",
      " False False  True  True  True  True False  True False False False False\n",
      "  True False  True False  True False False  True  True False False  True\n",
      " False  True  True False False False False False False False False False\n",
      "  True  True False  True False  True  True False False False  True False\n",
      "  True  True False  True  True False False  True False False  True False\n",
      " False False  True False False False  True False False  True False False\n",
      "  True False  True False  True  True False  True  True False False  True\n",
      "  True False  True False  True False  True False  True False  True False\n",
      "  True  True False False  True False  True False  True False False  True\n",
      "  True  True False False  True False False  True False  True False False\n",
      " False  True False False  True False  True False False False False  True\n",
      "  True False False  True False  True  True False  True  True False  True\n",
      "  True False  True False  True False False False False False False  True\n",
      " False  True  True False  True False  True  True  True  True  True  True\n",
      "  True False False  True False False  True False  True False  True  True\n",
      "  True False  True  True False  True  True  True  True  True  True False\n",
      "  True  True False  True False  True False False  True False  True False\n",
      "  True False False False  True  True  True False False  True False  True\n",
      " False  True  True False  True  True False  True False False False False\n",
      "  True  True False  True  True False False  True  True False False False\n",
      "  True False  True  True False False  True False False False False  True\n",
      "  True  True False False  True  True False False False  True False  True\n",
      " False  True False False  True False False False False  True False False\n",
      " False False False False False  True  True False False False False  True\n",
      "  True False False False False False  True False False  True False  True\n",
      "  True False False False  True  True False False  True False  True False\n",
      "  True  True  True False False  True False False False False False False\n",
      "  True  True False  True  True  True False False False  True False False\n",
      "  True False False  True False False False  True  True  True  True False\n",
      " False False False False  True False False False  True False False False\n",
      "  True  True False False False False False False  True  True False False\n",
      " False False  True  True False  True  True False  True False  True False\n",
      "  True False  True False False  True False False False  True False  True\n",
      " False False  True False  True  True False  True False False False False\n",
      "  True False  True False False  True False  True  True  True  True  True\n",
      " False False  True False  True  True False False False False  True  True\n",
      " False  True  True  True False  True  True False False False False  True\n",
      " False  True  True  True False False False False False  True False  True\n",
      "  True  True False False False False  True  True False  True  True  True\n",
      " False  True  True False False  True  True False  True False  True  True\n",
      " False  True False False False False False  True  True False False False\n",
      " False False False False False False False  True False False False  True\n",
      " False  True False  True  True False  True False False False  True False\n",
      " False  True False  True False False  True False  True False  True False\n",
      "  True  True False False False False False  True  True False False  True\n",
      " False False False  True  True False False False  True False False False\n",
      " False  True False False  True False False False  True False  True  True\n",
      "  True False  True False False False  True  True False False False  True\n",
      "  True False False False  True  True  True  True False  True False False\n",
      " False  True False  True False False False False False False  True  True\n",
      "  True  True  True False False  True False  True False False  True False\n",
      "  True False False  True False False  True  True  True  True False False\n",
      " False  True  True False False  True False False False False  True  True\n",
      " False False  True False  True False  True False False False  True False\n",
      "  True False False  True  True False False  True False False False False\n",
      " False False  True  True False False False False False False False  True\n",
      "  True  True False  True False False False False False  True False False\n",
      " False  True  True False  True  True False False False  True  True  True\n",
      " False False  True False]\n"
     ]
    }
   ],
   "source": [
    "bool_idx_row1 = (attack_rolls[0]>defense_rolls[0])\n",
    "\n",
    "bool_idx_row2 = (attack_rolls[1]>defense_rolls[1])\n",
    "\n",
    "bool_idx_row3 = (attack_rolls[2]>defense_rolls[1])"
   ]
  },
  {
   "cell_type": "code",
   "execution_count": null,
   "metadata": {},
   "outputs": [],
   "source": []
  }
 ],
 "metadata": {
  "kernelspec": {
   "display_name": "base",
   "language": "python",
   "name": "python3"
  },
  "language_info": {
   "codemirror_mode": {
    "name": "ipython",
    "version": 3
   },
   "file_extension": ".py",
   "mimetype": "text/x-python",
   "name": "python",
   "nbconvert_exporter": "python",
   "pygments_lexer": "ipython3",
   "version": "3.11.7"
  }
 },
 "nbformat": 4,
 "nbformat_minor": 2
}
