{
 "cells": [
  {
   "cell_type": "markdown",
   "metadata": {},
   "source": [
    "The program should simulates 1000 individual battle rounds in Risk (3 attacker vs 2 defender) and plots the result.\n",
    "\n",
    "One battle round is one shake of the attacker and defender dice."
   ]
  },
  {
   "cell_type": "code",
   "execution_count": 162,
   "metadata": {},
   "outputs": [],
   "source": [
    "import numpy as np\n",
    "import matplotlib.pyplot as plt"
   ]
  },
  {
   "cell_type": "code",
   "execution_count": 163,
   "metadata": {},
   "outputs": [
    {
     "data": {
      "text/plain": [
       "array([1, 2, 3, 4, 5, 6])"
      ]
     },
     "execution_count": 163,
     "metadata": {},
     "output_type": "execute_result"
    }
   ],
   "source": [
    "# Sides of die\n",
    "n_sides = 6\n",
    "\n",
    "# Represent a die by using a numpy array\n",
    "die = np.array([i for i in range(1, n_sides+1)])\n",
    "\n",
    "die"
   ]
  },
  {
   "cell_type": "code",
   "execution_count": 164,
   "metadata": {},
   "outputs": [],
   "source": [
    "# Roll the die 1000 times\n",
    "n_rolls = 1000\n",
    "\n",
    "# Save the result of each roll\n",
    "attack_rolls = np.array([np.array([np.random.choice(die) for _ in range(n_rolls)]) for _ in range(3)])\n",
    "\n",
    "defense_rolls = np.array([np.array([np.random.choice(die) for _ in range(n_rolls)]) for _ in range(2)])\n"
   ]
  },
  {
   "cell_type": "code",
   "execution_count": 165,
   "metadata": {},
   "outputs": [],
   "source": [
    "#Sort rolls in descending order\n",
    "attack_rolls = np.sort(attack_rolls, axis = 0)[::-1]\n",
    "\n",
    "defense_rolls = np.sort(defense_rolls, axis = 0)[::-1]"
   ]
  },
  {
   "cell_type": "code",
   "execution_count": 166,
   "metadata": {},
   "outputs": [],
   "source": [
    "#Compare the top two attack and defense rolls\n",
    "bool_idx_row1 = (attack_rolls[0]>defense_rolls[0])\n",
    "\n",
    "bool_idx_row2 = (attack_rolls[1]>defense_rolls[1])\n"
   ]
  },
  {
   "cell_type": "code",
   "execution_count": 167,
   "metadata": {},
   "outputs": [],
   "source": [
    "#Define function to count results\n",
    "def results(match_1, match_2):\n",
    "    attack_wins = 0\n",
    "    defense_wins = 0\n",
    "\n",
    "    for i in match_1:\n",
    "        if i == True:\n",
    "            attack_wins += 1\n",
    "        else:\n",
    "            defense_wins += 1\n",
    "\n",
    "    for i in match_2:\n",
    "        if i == True:\n",
    "            attack_wins += 1\n",
    "        else:\n",
    "            defense_wins += 1\n",
    "\n",
    "    fig, ax = plt.subplots()\n",
    "    ax.bar(\"Attack Wins\", attack_wins, width=1, edgecolor=\"white\", linewidth=0.7, color = \"magenta\")\n",
    "    ax.bar(\"Defense Wins\", defense_wins, width=1, edgecolor=\"white\", linewidth=0.7, color = \"lightgreen\")\n",
    "    plt.title(\"Results of 1000 battle rounds (Risk)\")\n",
    "    plt.show()"
   ]
  },
  {
   "cell_type": "code",
   "execution_count": 168,
   "metadata": {},
   "outputs": [
    {
     "data": {
      "image/png": "[encoded data removed]",
      "text/plain": [
       "<Figure size 640x480 with 1 Axes>"
      ]
     },
     "metadata": {},
     "output_type": "display_data"
    }
   ],
   "source": [
    "results(bool_idx_row1, bool_idx_row2)"
   ]
  },
  {
   "cell_type": "code",
   "execution_count": null,
   "metadata": {},
   "outputs": [],
   "source": []
  }
 ],
 "metadata": {
  "kernelspec": {
   "display_name": "base",
   "language": "python",
   "name": "python3"
  },
  "language_info": {
   "codemirror_mode": {
    "name": "ipython",
    "version": 3
   },
   "file_extension": ".py",
   "mimetype": "text/x-python",
   "name": "python",
   "nbconvert_exporter": "python",
   "pygments_lexer": "ipython3",
   "version": "3.11.7"
  }
 },
 "nbformat": 4,
 "nbformat_minor": 2
}
